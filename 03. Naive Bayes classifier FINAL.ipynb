{
 "cells": [
  {
   "cell_type": "code",
   "execution_count": 15,
   "metadata": {},
   "outputs": [
    {
     "data": {
      "text/html": [
       "<div>\n",
       "<style scoped>\n",
       "    .dataframe tbody tr th:only-of-type {\n",
       "        vertical-align: middle;\n",
       "    }\n",
       "\n",
       "    .dataframe tbody tr th {\n",
       "        vertical-align: top;\n",
       "    }\n",
       "\n",
       "    .dataframe thead th {\n",
       "        text-align: right;\n",
       "    }\n",
       "</style>\n",
       "<table border=\"1\" class=\"dataframe\">\n",
       "  <thead>\n",
       "    <tr style=\"text-align: right;\">\n",
       "      <th></th>\n",
       "      <th>2Grammed_APICalls_#10</th>\n",
       "      <th>2Grammed_APICalls_#102</th>\n",
       "      <th>2Grammed_APICalls_#105</th>\n",
       "      <th>2Grammed_APICalls_#107</th>\n",
       "      <th>2Grammed_APICalls_#108</th>\n",
       "      <th>2Grammed_APICalls_#110</th>\n",
       "      <th>2Grammed_APICalls_#111</th>\n",
       "      <th>2Grammed_APICalls_#114</th>\n",
       "      <th>2Grammed_APICalls_#126</th>\n",
       "      <th>2Grammed_APICalls_#128</th>\n",
       "      <th>...</th>\n",
       "      <th>Packet_Length_Std</th>\n",
       "      <th>Packet_Length_Variance</th>\n",
       "      <th>SYN_Flag_Count</th>\n",
       "      <th>Subflow_Bwd_Bytes</th>\n",
       "      <th>Subflow_Bwd_Packets</th>\n",
       "      <th>Subflow_Fwd_Bytes</th>\n",
       "      <th>Subflow_Fwd_Packets</th>\n",
       "      <th>Total_Length_of_Bwd_Packets</th>\n",
       "      <th>URG_Flag_Count</th>\n",
       "      <th>Family</th>\n",
       "    </tr>\n",
       "  </thead>\n",
       "  <tbody>\n",
       "    <tr>\n",
       "      <th>0</th>\n",
       "      <td>0</td>\n",
       "      <td>0</td>\n",
       "      <td>0</td>\n",
       "      <td>0</td>\n",
       "      <td>0</td>\n",
       "      <td>0</td>\n",
       "      <td>0</td>\n",
       "      <td>0</td>\n",
       "      <td>0</td>\n",
       "      <td>0</td>\n",
       "      <td>...</td>\n",
       "      <td>5880</td>\n",
       "      <td>2954041</td>\n",
       "      <td>2</td>\n",
       "      <td>208010</td>\n",
       "      <td>238</td>\n",
       "      <td>22380</td>\n",
       "      <td>214</td>\n",
       "      <td>208010</td>\n",
       "      <td>6</td>\n",
       "      <td>koler</td>\n",
       "    </tr>\n",
       "    <tr>\n",
       "      <th>1</th>\n",
       "      <td>0</td>\n",
       "      <td>0</td>\n",
       "      <td>0</td>\n",
       "      <td>0</td>\n",
       "      <td>0</td>\n",
       "      <td>0</td>\n",
       "      <td>0</td>\n",
       "      <td>0</td>\n",
       "      <td>0</td>\n",
       "      <td>0</td>\n",
       "      <td>...</td>\n",
       "      <td>5904</td>\n",
       "      <td>2945087</td>\n",
       "      <td>3</td>\n",
       "      <td>237811</td>\n",
       "      <td>264</td>\n",
       "      <td>23368</td>\n",
       "      <td>222</td>\n",
       "      <td>237811</td>\n",
       "      <td>6</td>\n",
       "      <td>koler</td>\n",
       "    </tr>\n",
       "    <tr>\n",
       "      <th>2</th>\n",
       "      <td>0</td>\n",
       "      <td>0</td>\n",
       "      <td>0</td>\n",
       "      <td>0</td>\n",
       "      <td>0</td>\n",
       "      <td>0</td>\n",
       "      <td>0</td>\n",
       "      <td>0</td>\n",
       "      <td>0</td>\n",
       "      <td>0</td>\n",
       "      <td>...</td>\n",
       "      <td>7895</td>\n",
       "      <td>4000639</td>\n",
       "      <td>3</td>\n",
       "      <td>458257</td>\n",
       "      <td>439</td>\n",
       "      <td>27808</td>\n",
       "      <td>330</td>\n",
       "      <td>458257</td>\n",
       "      <td>9</td>\n",
       "      <td>koler</td>\n",
       "    </tr>\n",
       "    <tr>\n",
       "      <th>3</th>\n",
       "      <td>0</td>\n",
       "      <td>0</td>\n",
       "      <td>0</td>\n",
       "      <td>0</td>\n",
       "      <td>0</td>\n",
       "      <td>0</td>\n",
       "      <td>0</td>\n",
       "      <td>0</td>\n",
       "      <td>0</td>\n",
       "      <td>0</td>\n",
       "      <td>...</td>\n",
       "      <td>7852</td>\n",
       "      <td>3875751</td>\n",
       "      <td>3</td>\n",
       "      <td>403554</td>\n",
       "      <td>410</td>\n",
       "      <td>32993</td>\n",
       "      <td>316</td>\n",
       "      <td>403554</td>\n",
       "      <td>8</td>\n",
       "      <td>koler</td>\n",
       "    </tr>\n",
       "    <tr>\n",
       "      <th>4</th>\n",
       "      <td>0</td>\n",
       "      <td>0</td>\n",
       "      <td>0</td>\n",
       "      <td>0</td>\n",
       "      <td>0</td>\n",
       "      <td>0</td>\n",
       "      <td>0</td>\n",
       "      <td>0</td>\n",
       "      <td>0</td>\n",
       "      <td>0</td>\n",
       "      <td>...</td>\n",
       "      <td>7087</td>\n",
       "      <td>3528936</td>\n",
       "      <td>4</td>\n",
       "      <td>334440</td>\n",
       "      <td>344</td>\n",
       "      <td>27579</td>\n",
       "      <td>279</td>\n",
       "      <td>334440</td>\n",
       "      <td>8</td>\n",
       "      <td>koler</td>\n",
       "    </tr>\n",
       "  </tbody>\n",
       "</table>\n",
       "<p>5 rows × 461 columns</p>\n",
       "</div>"
      ],
      "text/plain": [
       "   2Grammed_APICalls_#10  2Grammed_APICalls_#102  2Grammed_APICalls_#105  \\\n",
       "0                      0                       0                       0   \n",
       "1                      0                       0                       0   \n",
       "2                      0                       0                       0   \n",
       "3                      0                       0                       0   \n",
       "4                      0                       0                       0   \n",
       "\n",
       "   2Grammed_APICalls_#107  2Grammed_APICalls_#108  2Grammed_APICalls_#110  \\\n",
       "0                       0                       0                       0   \n",
       "1                       0                       0                       0   \n",
       "2                       0                       0                       0   \n",
       "3                       0                       0                       0   \n",
       "4                       0                       0                       0   \n",
       "\n",
       "   2Grammed_APICalls_#111  2Grammed_APICalls_#114  2Grammed_APICalls_#126  \\\n",
       "0                       0                       0                       0   \n",
       "1                       0                       0                       0   \n",
       "2                       0                       0                       0   \n",
       "3                       0                       0                       0   \n",
       "4                       0                       0                       0   \n",
       "\n",
       "   2Grammed_APICalls_#128  ...  Packet_Length_Std  Packet_Length_Variance  \\\n",
       "0                       0  ...               5880                 2954041   \n",
       "1                       0  ...               5904                 2945087   \n",
       "2                       0  ...               7895                 4000639   \n",
       "3                       0  ...               7852                 3875751   \n",
       "4                       0  ...               7087                 3528936   \n",
       "\n",
       "   SYN_Flag_Count  Subflow_Bwd_Bytes  Subflow_Bwd_Packets  Subflow_Fwd_Bytes  \\\n",
       "0               2             208010                  238              22380   \n",
       "1               3             237811                  264              23368   \n",
       "2               3             458257                  439              27808   \n",
       "3               3             403554                  410              32993   \n",
       "4               4             334440                  344              27579   \n",
       "\n",
       "   Subflow_Fwd_Packets  Total_Length_of_Bwd_Packets  URG_Flag_Count  Family  \n",
       "0                  214                       208010               6   koler  \n",
       "1                  222                       237811               6   koler  \n",
       "2                  330                       458257               9   koler  \n",
       "3                  316                       403554               8   koler  \n",
       "4                  279                       334440               8   koler  \n",
       "\n",
       "[5 rows x 461 columns]"
      ]
     },
     "execution_count": 15,
     "metadata": {},
     "output_type": "execute_result"
    }
   ],
   "source": [
    "##Import dataset\n",
    "import numpy as np\n",
    "import pandas as pd\n",
    "\n",
    "dataset = pd.read_csv(\"DatasetClean.csv\")\n",
    "dataset.head()"
   ]
  },
  {
   "cell_type": "code",
   "execution_count": 16,
   "metadata": {},
   "outputs": [
    {
     "data": {
      "text/html": [
       "<div>\n",
       "<style scoped>\n",
       "    .dataframe tbody tr th:only-of-type {\n",
       "        vertical-align: middle;\n",
       "    }\n",
       "\n",
       "    .dataframe tbody tr th {\n",
       "        vertical-align: top;\n",
       "    }\n",
       "\n",
       "    .dataframe thead th {\n",
       "        text-align: right;\n",
       "    }\n",
       "</style>\n",
       "<table border=\"1\" class=\"dataframe\">\n",
       "  <thead>\n",
       "    <tr style=\"text-align: right;\">\n",
       "      <th></th>\n",
       "      <th>2Grammed_APICalls_#10</th>\n",
       "      <th>2Grammed_APICalls_#102</th>\n",
       "      <th>2Grammed_APICalls_#105</th>\n",
       "      <th>2Grammed_APICalls_#107</th>\n",
       "      <th>2Grammed_APICalls_#108</th>\n",
       "      <th>2Grammed_APICalls_#110</th>\n",
       "      <th>2Grammed_APICalls_#111</th>\n",
       "      <th>2Grammed_APICalls_#114</th>\n",
       "      <th>2Grammed_APICalls_#126</th>\n",
       "      <th>2Grammed_APICalls_#128</th>\n",
       "      <th>...</th>\n",
       "      <th>Packet_Length_Mean</th>\n",
       "      <th>Packet_Length_Std</th>\n",
       "      <th>Packet_Length_Variance</th>\n",
       "      <th>SYN_Flag_Count</th>\n",
       "      <th>Subflow_Bwd_Bytes</th>\n",
       "      <th>Subflow_Bwd_Packets</th>\n",
       "      <th>Subflow_Fwd_Bytes</th>\n",
       "      <th>Subflow_Fwd_Packets</th>\n",
       "      <th>Total_Length_of_Bwd_Packets</th>\n",
       "      <th>URG_Flag_Count</th>\n",
       "    </tr>\n",
       "  </thead>\n",
       "  <tbody>\n",
       "    <tr>\n",
       "      <th>0</th>\n",
       "      <td>0</td>\n",
       "      <td>0</td>\n",
       "      <td>0</td>\n",
       "      <td>0</td>\n",
       "      <td>0</td>\n",
       "      <td>0</td>\n",
       "      <td>0</td>\n",
       "      <td>0</td>\n",
       "      <td>0</td>\n",
       "      <td>0</td>\n",
       "      <td>...</td>\n",
       "      <td>4904</td>\n",
       "      <td>5880</td>\n",
       "      <td>2954041</td>\n",
       "      <td>2</td>\n",
       "      <td>208010</td>\n",
       "      <td>238</td>\n",
       "      <td>22380</td>\n",
       "      <td>214</td>\n",
       "      <td>208010</td>\n",
       "      <td>6</td>\n",
       "    </tr>\n",
       "    <tr>\n",
       "      <th>1</th>\n",
       "      <td>0</td>\n",
       "      <td>0</td>\n",
       "      <td>0</td>\n",
       "      <td>0</td>\n",
       "      <td>0</td>\n",
       "      <td>0</td>\n",
       "      <td>0</td>\n",
       "      <td>0</td>\n",
       "      <td>0</td>\n",
       "      <td>0</td>\n",
       "      <td>...</td>\n",
       "      <td>4699</td>\n",
       "      <td>5904</td>\n",
       "      <td>2945087</td>\n",
       "      <td>3</td>\n",
       "      <td>237811</td>\n",
       "      <td>264</td>\n",
       "      <td>23368</td>\n",
       "      <td>222</td>\n",
       "      <td>237811</td>\n",
       "      <td>6</td>\n",
       "    </tr>\n",
       "    <tr>\n",
       "      <th>2</th>\n",
       "      <td>0</td>\n",
       "      <td>0</td>\n",
       "      <td>0</td>\n",
       "      <td>0</td>\n",
       "      <td>0</td>\n",
       "      <td>0</td>\n",
       "      <td>0</td>\n",
       "      <td>0</td>\n",
       "      <td>0</td>\n",
       "      <td>0</td>\n",
       "      <td>...</td>\n",
       "      <td>6487</td>\n",
       "      <td>7895</td>\n",
       "      <td>4000639</td>\n",
       "      <td>3</td>\n",
       "      <td>458257</td>\n",
       "      <td>439</td>\n",
       "      <td>27808</td>\n",
       "      <td>330</td>\n",
       "      <td>458257</td>\n",
       "      <td>9</td>\n",
       "    </tr>\n",
       "    <tr>\n",
       "      <th>3</th>\n",
       "      <td>0</td>\n",
       "      <td>0</td>\n",
       "      <td>0</td>\n",
       "      <td>0</td>\n",
       "      <td>0</td>\n",
       "      <td>0</td>\n",
       "      <td>0</td>\n",
       "      <td>0</td>\n",
       "      <td>0</td>\n",
       "      <td>0</td>\n",
       "      <td>...</td>\n",
       "      <td>6469</td>\n",
       "      <td>7852</td>\n",
       "      <td>3875751</td>\n",
       "      <td>3</td>\n",
       "      <td>403554</td>\n",
       "      <td>410</td>\n",
       "      <td>32993</td>\n",
       "      <td>316</td>\n",
       "      <td>403554</td>\n",
       "      <td>8</td>\n",
       "    </tr>\n",
       "    <tr>\n",
       "      <th>4</th>\n",
       "      <td>0</td>\n",
       "      <td>0</td>\n",
       "      <td>0</td>\n",
       "      <td>0</td>\n",
       "      <td>0</td>\n",
       "      <td>0</td>\n",
       "      <td>0</td>\n",
       "      <td>0</td>\n",
       "      <td>0</td>\n",
       "      <td>0</td>\n",
       "      <td>...</td>\n",
       "      <td>6052</td>\n",
       "      <td>7087</td>\n",
       "      <td>3528936</td>\n",
       "      <td>4</td>\n",
       "      <td>334440</td>\n",
       "      <td>344</td>\n",
       "      <td>27579</td>\n",
       "      <td>279</td>\n",
       "      <td>334440</td>\n",
       "      <td>8</td>\n",
       "    </tr>\n",
       "  </tbody>\n",
       "</table>\n",
       "<p>5 rows × 460 columns</p>\n",
       "</div>"
      ],
      "text/plain": [
       "   2Grammed_APICalls_#10  2Grammed_APICalls_#102  2Grammed_APICalls_#105  \\\n",
       "0                      0                       0                       0   \n",
       "1                      0                       0                       0   \n",
       "2                      0                       0                       0   \n",
       "3                      0                       0                       0   \n",
       "4                      0                       0                       0   \n",
       "\n",
       "   2Grammed_APICalls_#107  2Grammed_APICalls_#108  2Grammed_APICalls_#110  \\\n",
       "0                       0                       0                       0   \n",
       "1                       0                       0                       0   \n",
       "2                       0                       0                       0   \n",
       "3                       0                       0                       0   \n",
       "4                       0                       0                       0   \n",
       "\n",
       "   2Grammed_APICalls_#111  2Grammed_APICalls_#114  2Grammed_APICalls_#126  \\\n",
       "0                       0                       0                       0   \n",
       "1                       0                       0                       0   \n",
       "2                       0                       0                       0   \n",
       "3                       0                       0                       0   \n",
       "4                       0                       0                       0   \n",
       "\n",
       "   2Grammed_APICalls_#128  ...  Packet_Length_Mean  Packet_Length_Std  \\\n",
       "0                       0  ...                4904               5880   \n",
       "1                       0  ...                4699               5904   \n",
       "2                       0  ...                6487               7895   \n",
       "3                       0  ...                6469               7852   \n",
       "4                       0  ...                6052               7087   \n",
       "\n",
       "   Packet_Length_Variance  SYN_Flag_Count  Subflow_Bwd_Bytes  \\\n",
       "0                 2954041               2             208010   \n",
       "1                 2945087               3             237811   \n",
       "2                 4000639               3             458257   \n",
       "3                 3875751               3             403554   \n",
       "4                 3528936               4             334440   \n",
       "\n",
       "   Subflow_Bwd_Packets  Subflow_Fwd_Bytes  Subflow_Fwd_Packets  \\\n",
       "0                  238              22380                  214   \n",
       "1                  264              23368                  222   \n",
       "2                  439              27808                  330   \n",
       "3                  410              32993                  316   \n",
       "4                  344              27579                  279   \n",
       "\n",
       "   Total_Length_of_Bwd_Packets  URG_Flag_Count  \n",
       "0                       208010               6  \n",
       "1                       237811               6  \n",
       "2                       458257               9  \n",
       "3                       403554               8  \n",
       "4                       334440               8  \n",
       "\n",
       "[5 rows x 460 columns]"
      ]
     },
     "execution_count": 16,
     "metadata": {},
     "output_type": "execute_result"
    }
   ],
   "source": [
    "##pemisahan atribut independen yaitu \"Family\"\n",
    "x = dataset.drop([\"Family\"], axis=1)\n",
    "x.head()"
   ]
  },
  {
   "cell_type": "code",
   "execution_count": 17,
   "metadata": {},
   "outputs": [
    {
     "data": {
      "text/plain": [
       "(305, 460)"
      ]
     },
     "execution_count": 17,
     "metadata": {},
     "output_type": "execute_result"
    }
   ],
   "source": [
    "x.shape"
   ]
  },
  {
   "cell_type": "code",
   "execution_count": 18,
   "metadata": {},
   "outputs": [
    {
     "data": {
      "text/plain": [
       "0    koler\n",
       "1    koler\n",
       "2    koler\n",
       "3    koler\n",
       "4    koler\n",
       "Name: Family, dtype: object"
      ]
     },
     "execution_count": 18,
     "metadata": {},
     "output_type": "execute_result"
    }
   ],
   "source": [
    "y = dataset[\"Family\"]\n",
    "y.head()"
   ]
  },
  {
   "cell_type": "code",
   "execution_count": 19,
   "metadata": {},
   "outputs": [],
   "source": [
    "##pembagian pertama 60% data training dan 40% data test\n",
    "from sklearn.model_selection import train_test_split\n",
    "x_train, x_test, y_train, y_test = train_test_split(x, y, test_size = 0.40)"
   ]
  },
  {
   "cell_type": "code",
   "execution_count": 20,
   "metadata": {},
   "outputs": [
    {
     "data": {
      "text/plain": [
       "183"
      ]
     },
     "execution_count": 20,
     "metadata": {},
     "output_type": "execute_result"
    }
   ],
   "source": [
    "len(x_train)"
   ]
  },
  {
   "cell_type": "code",
   "execution_count": 21,
   "metadata": {},
   "outputs": [
    {
     "data": {
      "text/plain": [
       "122"
      ]
     },
     "execution_count": 21,
     "metadata": {},
     "output_type": "execute_result"
    }
   ],
   "source": [
    "len(x_test)"
   ]
  },
  {
   "cell_type": "code",
   "execution_count": 22,
   "metadata": {},
   "outputs": [
    {
     "data": {
      "text/plain": [
       "67            feiwo\n",
       "47         gooligan\n",
       "246    fakejoboffer\n",
       "42         mobidash\n",
       "65           kemoge\n",
       "Name: Family, dtype: object"
      ]
     },
     "execution_count": 22,
     "metadata": {},
     "output_type": "execute_result"
    }
   ],
   "source": [
    "y_train.head()"
   ]
  },
  {
   "cell_type": "code",
   "execution_count": 23,
   "metadata": {},
   "outputs": [
    {
     "data": {
      "text/plain": [
       "280      smssniffer\n",
       "197      simplocker\n",
       "34           pletor\n",
       "28         RansomBO\n",
       "118    AvForAndroid\n",
       "Name: Family, dtype: object"
      ]
     },
     "execution_count": 23,
     "metadata": {},
     "output_type": "execute_result"
    }
   ],
   "source": [
    "y_test.head()"
   ]
  },
  {
   "cell_type": "code",
   "execution_count": 24,
   "metadata": {},
   "outputs": [
    {
     "data": {
      "text/plain": [
       "GaussianNB()"
      ]
     },
     "execution_count": 24,
     "metadata": {},
     "output_type": "execute_result"
    }
   ],
   "source": [
    "###klasifikasi Naive Bayes\n",
    "from sklearn.naive_bayes import GaussianNB\n",
    "from sklearn.metrics import r2_score\n",
    "\n",
    "clf = GaussianNB()\n",
    "clf.fit(x_train, y_train)"
   ]
  },
  {
   "cell_type": "code",
   "execution_count": 25,
   "metadata": {},
   "outputs": [],
   "source": [
    "y_pred = clf.predict(x_test)"
   ]
  },
  {
   "cell_type": "code",
   "execution_count": 26,
   "metadata": {},
   "outputs": [
    {
     "name": "stdout",
     "output_type": "stream",
     "text": [
      "['plankton' 'penetho' 'pletor' 'gooligan' 'gooligan' 'FakeTaoBao'\n",
      " 'fakejoboffer' 'youmi' 'fakejoboffer' 'fakemart' 'charger'\n",
      " 'android.spy.277' 'avpass' 'plankton' 'jisut' 'zsone' 'fakeapp' 'ewind'\n",
      " 'AndroidDefender' 'jifake' 'ewind' 'plankton' 'mazarbot' 'ewind'\n",
      " 'AvForAndroid' 'ewind' 'nandrobox' 'youmi' 'FakeTaoBao' 'zsone' 'charger'\n",
      " 'fakejoboffer' 'AndroidDefender' 'mazarbot' 'fakejoboffer' 'jifake'\n",
      " 'smssniffer' 'jisut' 'ewind' 'gooligan' 'FakeTaoBao' 'ewind'\n",
      " 'wannalocker' 'fakemart' 'gooligan' 'AndroidDefender' 'AndroidDefender'\n",
      " 'porndroid' 'charger' 'wannalocker' 'ewind' 'AvForAndroid' 'AvForAndroid'\n",
      " 'jisut' 'fakejoboffer' 'avpass' 'feiwo' 'svpeng' 'fakejoboffer'\n",
      " 'mobidash' 'dowgin' 'fakemart' 'porndroid' 'jisut' 'fakemart' 'fakeinst'\n",
      " 'jisut' 'wannalocker' 'svpeng' 'porndroid' 'AvForAndroid' 'jisut'\n",
      " 'mazarbot' 'beanbot' 'jisut' 'charger' 'fakeinst' 'gooligan' 'jisut'\n",
      " 'kemoge' 'kemoge' 'porndroid' 'mobidash' 'fakemart' 'mazarbot' 'kemoge'\n",
      " 'fakeapp' 'FakeTaoBao' 'wannalocker' 'jifake' 'AndroidDefender' 'charger'\n",
      " 'mazarbot' 'ewind' 'jisut' 'wannalocker' 'svpeng' 'RansomBO' 'fakemart'\n",
      " 'wannalocker' 'AndroidDefender' 'nandrobox' 'mazarbot' 'jisut'\n",
      " 'wannalocker' 'mazarbot' 'fakejoboffer' 'beanbot' 'FakeTaoBao' 'pletor'\n",
      " 'FakeTaoBao' 'jisut' 'nandrobox' 'fakeinst' 'wannalocker' 'gooligan'\n",
      " 'FakeTaoBao' 'fakeav' 'smssniffer' 'fakemart' 'mobidash' 'virusshield']\n",
      "Time = 0.031914 seconds\n"
     ]
    }
   ],
   "source": [
    "##klasifikasi data test\n",
    "from time import time\n",
    "start = time()\n",
    "y_pred = clf.predict(x_test)\n",
    "end = time()\n",
    "result = end-start\n",
    "print(y_pred)\n",
    "print('Time = %f seconds' % result)"
   ]
  },
  {
   "cell_type": "code",
   "execution_count": 27,
   "metadata": {},
   "outputs": [
    {
     "name": "stdout",
     "output_type": "stream",
     "text": [
      "========================Confusion Metrix :========================\n",
      "[[4 0 0 ... 0 0 0]\n",
      " [0 0 0 ... 1 0 0]\n",
      " [0 0 1 ... 0 0 0]\n",
      " ...\n",
      " [0 0 0 ... 0 0 0]\n",
      " [0 0 0 ... 0 0 0]\n",
      " [0 0 0 ... 0 0 0]]\n",
      "\n",
      "=====================classification_report :======================\n",
      "                 precision    recall  f1-score   support\n",
      "\n",
      "AndroidDefender       0.67      0.67      0.67         6\n",
      "   AvForAndroid       0.00      0.00      0.00         5\n",
      "     FakeTaoBao       0.14      1.00      0.25         1\n",
      "       RansomBO       1.00      0.17      0.29         6\n",
      "android.spy.277       0.00      0.00      0.00         3\n",
      "         avpass       0.00      0.00      0.00         3\n",
      "        beanbot       1.00      0.40      0.57         5\n",
      "          biige       0.00      0.00      0.00         2\n",
      "        charger       0.60      0.75      0.67         4\n",
      "         dowgin       1.00      1.00      1.00         1\n",
      "          ewind       0.12      0.50      0.20         2\n",
      "        fakeapp       0.00      0.00      0.00         1\n",
      "         fakeav       0.00      0.00      0.00         6\n",
      "       fakeinst       0.33      0.33      0.33         3\n",
      "   fakejoboffer       0.29      0.50      0.36         4\n",
      "       fakemart       0.43      0.75      0.55         4\n",
      "          feiwo       0.00      0.00      0.00         1\n",
      "       gooligan       0.17      0.20      0.18         5\n",
      "         jifake       0.33      0.25      0.29         4\n",
      "          jisut       0.36      1.00      0.53         4\n",
      "         kemoge       0.00      0.00      0.00         3\n",
      "          koler       0.00      0.00      0.00         4\n",
      "      lockerpin       0.00      0.00      0.00         2\n",
      "       mazarbot       0.43      1.00      0.60         3\n",
      "       mobidash       0.33      0.50      0.40         2\n",
      "      nandrobox       0.33      0.25      0.29         4\n",
      "        penetho       0.00      0.00      0.00         7\n",
      "       plankton       0.33      0.50      0.40         2\n",
      "         pletor       1.00      0.67      0.80         3\n",
      "      porndroid       0.25      0.33      0.29         3\n",
      "        shuanet       0.00      0.00      0.00         3\n",
      "     simplocker       0.00      0.00      0.00         2\n",
      "     smssniffer       0.00      0.00      0.00         3\n",
      "         svpeng       0.33      1.00      0.50         1\n",
      "    virusshield       0.00      0.00      0.00         2\n",
      "    wannalocker       0.00      0.00      0.00         1\n",
      "          youmi       0.00      0.00      0.00         3\n",
      "          zsone       0.00      0.00      0.00         4\n",
      "\n",
      "       accuracy                           0.29       122\n",
      "      macro avg       0.25      0.31      0.24       122\n",
      "   weighted avg       0.28      0.29      0.25       122\n",
      "\n",
      "========================Accuracy Score :==========================\n",
      "60:40\n",
      "0.28688524590163933\n",
      "============================ Timer :==============================\n",
      "Timer = 0.031914 seconds\n"
     ]
    },
    {
     "name": "stderr",
     "output_type": "stream",
     "text": [
      "C:\\Users\\RAMADAN PRATAMA\\anaconda3\\lib\\site-packages\\sklearn\\metrics\\_classification.py:1221: UndefinedMetricWarning: Precision and F-score are ill-defined and being set to 0.0 in labels with no predicted samples. Use `zero_division` parameter to control this behavior.\n",
      "  _warn_prf(average, modifier, msg_start, len(result))\n"
     ]
    }
   ],
   "source": [
    "from sklearn.metrics import classification_report, confusion_matrix, accuracy_score\n",
    "print('========================Confusion Metrix :========================')\n",
    "print(confusion_matrix(y_test, y_pred))\n",
    "print()\n",
    "print('=====================classification_report :======================')\n",
    "print(classification_report(y_test, y_pred))\n",
    "print('========================Accuracy Score :==========================')\n",
    "print('60:40')\n",
    "print(accuracy_score(y_test, y_pred))\n",
    "print('============================ Timer :==============================')\n",
    "print('Timer = %f seconds' % result)"
   ]
  },
  {
   "cell_type": "code",
   "execution_count": 28,
   "metadata": {},
   "outputs": [],
   "source": [
    "##pembagian pertama 70% data training dan 30% data test\n",
    "from sklearn.model_selection import train_test_split\n",
    "x_train, x_test, y_train, y_test = train_test_split(x, y, test_size = 0.30)"
   ]
  },
  {
   "cell_type": "code",
   "execution_count": 29,
   "metadata": {},
   "outputs": [
    {
     "data": {
      "text/plain": [
       "213"
      ]
     },
     "execution_count": 29,
     "metadata": {},
     "output_type": "execute_result"
    }
   ],
   "source": [
    "len(x_train)"
   ]
  },
  {
   "cell_type": "code",
   "execution_count": 30,
   "metadata": {},
   "outputs": [
    {
     "data": {
      "text/plain": [
       "92"
      ]
     },
     "execution_count": 30,
     "metadata": {},
     "output_type": "execute_result"
    }
   ],
   "source": [
    "len(x_test)"
   ]
  },
  {
   "cell_type": "code",
   "execution_count": 31,
   "metadata": {},
   "outputs": [
    {
     "name": "stdout",
     "output_type": "stream",
     "text": [
      "['feiwo' 'fakeinst' 'mobidash' 'FakeTaoBao' 'FakeTaoBao' 'shuanet'\n",
      " 'RansomBO' 'fakemart' 'charger' 'jisut' 'AvForAndroid' 'charger' 'pletor'\n",
      " 'jisut' 'fakeinst' 'fakemart' 'AndroidDefender' 'jisut' 'jisut'\n",
      " 'porndroid' 'charger' 'porndroid' 'jifake' 'jisut' 'dowgin'\n",
      " 'AndroidDefender' 'nandrobox' 'jisut' 'fakemart' 'smssniffer' 'pletor'\n",
      " 'smssniffer' 'ewind' 'youmi' 'AndroidDefender' 'fakejoboffer' 'ewind'\n",
      " 'smssniffer' 'jisut' 'svpeng' 'zsone' 'virusshield' 'nandrobox' 'penetho'\n",
      " 'beanbot' 'jisut' 'beanbot' 'ewind' 'ewind' 'kemoge' 'nandrobox'\n",
      " 'fakejoboffer' 'shuanet' 'jisut' 'FakeTaoBao' 'porndroid' 'smssniffer'\n",
      " 'fakeav' 'FakeTaoBao' 'koler' 'zsone' 'virusshield' 'feiwo'\n",
      " 'fakejoboffer' 'RansomBO' 'penetho' 'fakejoboffer' 'fakeinst' 'jifake'\n",
      " 'kemoge' 'smssniffer' 'gooligan' 'jifake' 'dowgin' 'nandrobox'\n",
      " 'fakejoboffer' 'jifake' 'fakejoboffer' 'RansomBO' 'charger' 'shuanet'\n",
      " 'fakemart' 'charger' 'porndroid' 'jifake' 'porndroid' 'kemoge' 'dowgin'\n",
      " 'charger' 'ewind' 'jifake' 'ewind']\n",
      "Time = 0.019945 seconds\n",
      "========================Confusion Metrix :========================\n"
     ]
    },
    {
     "name": "stderr",
     "output_type": "stream",
     "text": [
      "C:\\Users\\RAMADAN PRATAMA\\anaconda3\\lib\\site-packages\\sklearn\\metrics\\_classification.py:1221: UndefinedMetricWarning: Precision and F-score are ill-defined and being set to 0.0 in labels with no predicted samples. Use `zero_division` parameter to control this behavior.\n",
      "  _warn_prf(average, modifier, msg_start, len(result))\n"
     ]
    },
    {
     "name": "stdout",
     "output_type": "stream",
     "text": [
      "[[1 0 0 ... 0 0 0]\n",
      " [0 0 1 ... 0 0 0]\n",
      " [0 0 1 ... 0 0 0]\n",
      " ...\n",
      " [1 0 0 ... 0 1 0]\n",
      " [0 0 0 ... 0 0 0]\n",
      " [0 0 0 ... 0 0 2]]\n",
      "\n",
      "=====================classification_report :======================\n",
      "                 precision    recall  f1-score   support\n",
      "\n",
      "AndroidDefender       0.33      0.25      0.29         4\n",
      "   AvForAndroid       0.00      0.00      0.00         2\n",
      "     FakeTaoBao       0.25      0.50      0.33         2\n",
      "       RansomBO       0.67      0.67      0.67         3\n",
      "android.spy.277       0.00      0.00      0.00         1\n",
      "         avpass       0.00      0.00      0.00         3\n",
      "        beanbot       0.00      0.00      0.00         1\n",
      "          biige       0.00      0.00      0.00         2\n",
      "        charger       0.50      1.00      0.67         3\n",
      "         dowgin       0.67      0.67      0.67         3\n",
      "          ewind       0.00      0.00      0.00         1\n",
      "        fakeapp       0.00      0.00      0.00         2\n",
      "         fakeav       0.00      0.00      0.00         3\n",
      "       fakeinst       0.33      0.50      0.40         2\n",
      "   fakejoboffer       0.17      0.50      0.25         2\n",
      "       fakemart       0.25      0.33      0.29         3\n",
      "          feiwo       0.00      0.00      0.00         1\n",
      "       gooligan       0.00      0.00      0.00         3\n",
      "         jifake       0.00      0.00      0.00         4\n",
      "          jisut       0.33      1.00      0.50         3\n",
      "         kemoge       0.00      0.00      0.00         2\n",
      "          koler       1.00      0.25      0.40         4\n",
      "      lockerpin       0.00      0.00      0.00         1\n",
      "       mazarbot       0.00      0.00      0.00         2\n",
      "       mobidash       0.00      0.00      0.00         2\n",
      "      nandrobox       0.00      0.00      0.00         2\n",
      "        penetho       0.50      0.33      0.40         3\n",
      "       plankton       0.00      0.00      0.00         4\n",
      "         pletor       1.00      1.00      1.00         2\n",
      "      porndroid       0.20      0.50      0.29         2\n",
      "       selfmite       0.00      0.00      0.00         1\n",
      "        shuanet       0.33      0.50      0.40         2\n",
      "     simplocker       0.00      0.00      0.00         1\n",
      "     smssniffer       0.00      0.00      0.00         0\n",
      "         svpeng       0.00      0.00      0.00         4\n",
      "    virusshield       0.00      0.00      0.00         3\n",
      "    wannalocker       0.00      0.00      0.00         4\n",
      "          youmi       0.00      0.00      0.00         1\n",
      "          zsone       1.00      0.50      0.67         4\n",
      "\n",
      "       accuracy                           0.25        92\n",
      "      macro avg       0.19      0.22      0.18        92\n",
      "   weighted avg       0.25      0.25      0.22        92\n",
      "\n",
      "========================Accuracy Score :==========================\n",
      "70:30\n",
      "0.25\n",
      "============================ Timer :==============================\n",
      "Timer = 0.019945 seconds\n"
     ]
    },
    {
     "name": "stderr",
     "output_type": "stream",
     "text": [
      "C:\\Users\\RAMADAN PRATAMA\\anaconda3\\lib\\site-packages\\sklearn\\metrics\\_classification.py:1221: UndefinedMetricWarning: Recall and F-score are ill-defined and being set to 0.0 in labels with no true samples. Use `zero_division` parameter to control this behavior.\n",
      "  _warn_prf(average, modifier, msg_start, len(result))\n"
     ]
    }
   ],
   "source": [
    "###klasifikasi Naive Bayes\n",
    "clf = GaussianNB()\n",
    "clf.fit(x_train, y_train)\n",
    "y_pred = clf.predict(x_test)\n",
    "\n",
    "##klasifikasi data test\n",
    "from time import time\n",
    "start = time()\n",
    "y_pred = clf.predict(x_test)\n",
    "end = time()\n",
    "result = end-start\n",
    "print(y_pred)\n",
    "print('Time = %f seconds' % result)\n",
    "\n",
    "from sklearn.metrics import classification_report, confusion_matrix, accuracy_score\n",
    "print('========================Confusion Metrix :========================')\n",
    "print(confusion_matrix(y_test, y_pred))\n",
    "print()\n",
    "print('=====================classification_report :======================')\n",
    "print(classification_report(y_test, y_pred))\n",
    "print('========================Accuracy Score :==========================')\n",
    "print('70:30')\n",
    "print(accuracy_score(y_test, y_pred))\n",
    "print('============================ Timer :==============================')\n",
    "print('Timer = %f seconds' % result)"
   ]
  },
  {
   "cell_type": "code",
   "execution_count": 32,
   "metadata": {},
   "outputs": [],
   "source": [
    "##pembagian ketiga 80% data training dan 20% data test\n",
    "from sklearn.model_selection import train_test_split\n",
    "x_train, x_test, y_train, y_test = train_test_split(x, y, test_size = 0.20)"
   ]
  },
  {
   "cell_type": "code",
   "execution_count": 33,
   "metadata": {},
   "outputs": [
    {
     "data": {
      "text/plain": [
       "244"
      ]
     },
     "execution_count": 33,
     "metadata": {},
     "output_type": "execute_result"
    }
   ],
   "source": [
    "len(x_train)"
   ]
  },
  {
   "cell_type": "code",
   "execution_count": 34,
   "metadata": {},
   "outputs": [
    {
     "data": {
      "text/plain": [
       "61"
      ]
     },
     "execution_count": 34,
     "metadata": {},
     "output_type": "execute_result"
    }
   ],
   "source": [
    "len(x_test)"
   ]
  },
  {
   "cell_type": "code",
   "execution_count": 35,
   "metadata": {},
   "outputs": [
    {
     "name": "stdout",
     "output_type": "stream",
     "text": [
      "['jifake' 'jisut' 'porndroid' 'pletor' 'wannalocker' 'ewind' 'jisut'\n",
      " 'zsone' 'jifake' 'ewind' 'FakeTaoBao' 'avpass' 'android.spy.277' 'zsone'\n",
      " 'porndroid' 'beanbot' 'AndroidDefender' 'ewind' 'RansomBO' 'mazarbot'\n",
      " 'fakemart' 'pletor' 'nandrobox' 'AvForAndroid' 'charger' 'beanbot'\n",
      " 'AndroidDefender' 'mobidash' 'FakeTaoBao' 'fakemart' 'fakejoboffer'\n",
      " 'mobidash' 'fakeinst' 'fakeapp' 'FakeTaoBao' 'fakemart' 'jisut' 'ewind'\n",
      " 'fakeapp' 'plankton' 'charger' 'jisut' 'fakemart' 'biige' 'koler'\n",
      " 'fakeav' 'svpeng' 'shuanet' 'jisut' 'fakejoboffer' 'ewind' 'svpeng'\n",
      " 'mazarbot' 'jisut' 'jisut' 'fakeav' 'jifake' 'youmi' 'dowgin' 'fakemart'\n",
      " 'mazarbot']\n",
      "Time = 0.020942 seconds\n",
      "========================Confusion Metrix :========================\n",
      "[[1 0 0 ... 0 0 0]\n",
      " [0 0 0 ... 0 0 0]\n",
      " [0 1 0 ... 0 0 0]\n",
      " ...\n",
      " [1 0 0 ... 0 0 0]\n",
      " [0 0 0 ... 0 0 0]\n",
      " [0 0 0 ... 0 0 0]]\n",
      "\n",
      "=====================classification_report :======================\n",
      "                 precision    recall  f1-score   support\n",
      "\n",
      "AndroidDefender       0.50      0.33      0.40         3\n",
      "   AvForAndroid       0.00      0.00      0.00         0\n",
      "     FakeTaoBao       0.00      0.00      0.00         1\n",
      "       RansomBO       1.00      0.50      0.67         2\n",
      "android.spy.277       0.00      0.00      0.00         1\n",
      "         avpass       0.00      0.00      0.00         3\n",
      "        beanbot       0.50      0.50      0.50         2\n",
      "          biige       0.00      0.00      0.00         0\n",
      "        charger       0.50      1.00      0.67         1\n",
      "         dowgin       1.00      0.33      0.50         3\n",
      "          ewind       0.00      0.00      0.00         2\n",
      "        fakeapp       0.00      0.00      0.00         0\n",
      "         fakeav       0.50      0.33      0.40         3\n",
      "       fakeinst       0.00      0.00      0.00         1\n",
      "   fakejoboffer       0.00      0.00      0.00         0\n",
      "       fakemart       0.40      0.67      0.50         3\n",
      "          feiwo       0.00      0.00      0.00         2\n",
      "       gooligan       0.00      0.00      0.00         4\n",
      "         jifake       0.00      0.00      0.00         1\n",
      "          jisut       0.14      0.50      0.22         2\n",
      "          koler       0.00      0.00      0.00         0\n",
      "      lockerpin       0.00      0.00      0.00         1\n",
      "       mazarbot       1.00      0.60      0.75         5\n",
      "       mobidash       0.00      0.00      0.00         2\n",
      "      nandrobox       1.00      0.50      0.67         2\n",
      "        penetho       0.00      0.00      0.00         1\n",
      "       plankton       1.00      1.00      1.00         1\n",
      "         pletor       1.00      1.00      1.00         2\n",
      "      porndroid       0.50      1.00      0.67         1\n",
      "       selfmite       0.00      0.00      0.00         1\n",
      "        shuanet       0.00      0.00      0.00         2\n",
      "     smssniffer       0.00      0.00      0.00         1\n",
      "         svpeng       0.00      0.00      0.00         0\n",
      "    virusshield       0.00      0.00      0.00         2\n",
      "    wannalocker       0.00      0.00      0.00         1\n",
      "          youmi       0.00      0.00      0.00         2\n",
      "          zsone       0.00      0.00      0.00         3\n",
      "\n",
      "       accuracy                           0.28        61\n",
      "      macro avg       0.24      0.22      0.21        61\n",
      "   weighted avg       0.35      0.28      0.29        61\n",
      "\n",
      "========================Accuracy Score :==========================\n",
      "80:20\n",
      "0.2786885245901639\n",
      "============================ Timer :==============================\n",
      "Timer = 0.020942 seconds\n"
     ]
    },
    {
     "name": "stderr",
     "output_type": "stream",
     "text": [
      "C:\\Users\\RAMADAN PRATAMA\\anaconda3\\lib\\site-packages\\sklearn\\metrics\\_classification.py:1221: UndefinedMetricWarning: Precision and F-score are ill-defined and being set to 0.0 in labels with no predicted samples. Use `zero_division` parameter to control this behavior.\n",
      "  _warn_prf(average, modifier, msg_start, len(result))\n",
      "C:\\Users\\RAMADAN PRATAMA\\anaconda3\\lib\\site-packages\\sklearn\\metrics\\_classification.py:1221: UndefinedMetricWarning: Recall and F-score are ill-defined and being set to 0.0 in labels with no true samples. Use `zero_division` parameter to control this behavior.\n",
      "  _warn_prf(average, modifier, msg_start, len(result))\n"
     ]
    }
   ],
   "source": [
    "\n",
    "\n",
    "###klasifikasi Naive Bayes\n",
    "clf = GaussianNB()\n",
    "clf.fit(x_train, y_train)\n",
    "y_pred = clf.predict(x_test)\n",
    "\n",
    "##klasifikasi data test\n",
    "from time import time\n",
    "start = time()\n",
    "y_pred = clf.predict(x_test)\n",
    "end = time()\n",
    "result = end-start\n",
    "print(y_pred)\n",
    "print('Time = %f seconds' % result)\n",
    "\n",
    "from sklearn.metrics import classification_report, confusion_matrix, accuracy_score\n",
    "print('========================Confusion Metrix :========================')\n",
    "print(confusion_matrix(y_test, y_pred))\n",
    "print()\n",
    "print('=====================classification_report :======================')\n",
    "print(classification_report(y_test, y_pred))\n",
    "print('========================Accuracy Score :==========================')\n",
    "print('80:20')\n",
    "print(accuracy_score(y_test, y_pred))\n",
    "print('============================ Timer :==============================')\n",
    "print('Timer = %f seconds' % result)"
   ]
  },
  {
   "cell_type": "code",
   "execution_count": 36,
   "metadata": {},
   "outputs": [],
   "source": [
    "##pembagian keempat 90% data training dan 10% data test\n",
    "from sklearn.model_selection import train_test_split\n",
    "x_train, x_test, y_train, y_test = train_test_split(x, y, test_size = 0.10)\n"
   ]
  },
  {
   "cell_type": "code",
   "execution_count": 37,
   "metadata": {},
   "outputs": [
    {
     "data": {
      "text/plain": [
       "274"
      ]
     },
     "execution_count": 37,
     "metadata": {},
     "output_type": "execute_result"
    }
   ],
   "source": [
    "len(x_train)"
   ]
  },
  {
   "cell_type": "code",
   "execution_count": 38,
   "metadata": {},
   "outputs": [
    {
     "data": {
      "text/plain": [
       "31"
      ]
     },
     "execution_count": 38,
     "metadata": {},
     "output_type": "execute_result"
    }
   ],
   "source": [
    "len(x_test)"
   ]
  },
  {
   "cell_type": "code",
   "execution_count": 39,
   "metadata": {},
   "outputs": [
    {
     "name": "stdout",
     "output_type": "stream",
     "text": [
      "['mobidash' 'fakejoboffer' 'fakemart' 'fakemart' 'fakeav'\n",
      " 'AndroidDefender' 'smssniffer' 'smssniffer' 'wannalocker' 'fakejoboffer'\n",
      " 'fakemart' 'dowgin' 'lockerpin' 'porndroid' 'dowgin' 'nandrobox'\n",
      " 'shuanet' 'mazarbot' 'ewind' 'nandrobox' 'svpeng' 'koler' 'jisut'\n",
      " 'svpeng' 'svpeng' 'fakemart' 'fakeav' 'android.spy.277' 'smssniffer'\n",
      " 'RansomBO' 'mazarbot']\n",
      "Time = 0.015962 seconds\n",
      "========================Confusion Metrix :========================\n",
      "[[0 0 0 0 0 0 0 0 0 0 0 0 0 0 0 0 0 0 0 0 0 0 0 0 0 0 0 0 0 0]\n",
      " [0 0 0 0 0 0 0 0 0 0 0 0 0 0 0 0 0 0 0 0 1 0 0 0 0 0 0 0 0 0]\n",
      " [0 0 1 0 0 0 0 0 0 0 0 0 0 0 0 0 0 0 0 0 0 0 0 0 0 0 0 0 0 0]\n",
      " [0 0 0 0 0 0 0 0 0 0 0 0 0 0 0 0 0 0 0 0 0 0 0 0 0 0 0 0 0 0]\n",
      " [0 0 0 0 0 0 0 0 0 0 0 0 0 0 0 0 0 0 1 0 0 0 0 0 0 0 0 0 0 0]\n",
      " [0 0 0 0 0 0 0 0 1 0 0 0 0 0 0 0 0 0 0 0 0 0 0 0 0 0 0 0 1 0]\n",
      " [0 0 0 0 0 0 1 0 0 0 0 0 0 0 0 0 0 0 0 0 0 0 0 0 0 0 0 0 0 0]\n",
      " [0 0 0 0 0 0 0 0 0 0 0 0 0 0 0 0 0 0 0 0 0 0 0 0 0 0 1 0 0 0]\n",
      " [0 0 0 0 0 0 0 0 0 0 0 0 0 0 0 0 0 0 0 0 0 0 0 0 0 0 0 0 0 0]\n",
      " [0 0 0 0 0 0 0 0 1 0 0 0 0 0 0 0 0 0 0 0 0 0 0 0 0 0 0 0 0 0]\n",
      " [0 0 0 0 0 0 0 0 0 0 0 0 0 0 0 0 0 0 0 0 0 0 0 0 0 0 0 0 0 0]\n",
      " [0 0 0 0 0 0 0 0 0 0 0 0 0 0 0 0 0 0 0 0 0 0 0 0 0 0 0 0 0 0]\n",
      " [0 0 0 0 0 0 0 0 0 0 0 0 0 0 0 1 0 0 0 0 0 0 0 0 0 0 1 0 0 0]\n",
      " [0 0 0 1 0 0 0 0 0 0 0 0 0 0 0 0 0 0 0 0 0 0 0 0 1 0 0 0 0 0]\n",
      " [0 0 0 0 0 0 0 0 0 0 0 2 0 0 0 0 0 0 0 0 0 0 0 0 0 0 0 0 0 0]\n",
      " [0 0 0 0 0 0 0 0 0 0 0 0 0 0 0 0 0 1 0 0 0 0 0 0 0 0 0 0 0 0]\n",
      " [0 0 0 0 0 0 0 0 0 0 0 0 0 0 0 0 0 0 0 0 0 0 0 0 0 0 0 0 0 0]\n",
      " [0 0 0 0 0 0 0 0 0 0 1 0 0 0 0 0 0 0 0 0 0 0 0 0 0 0 0 0 0 0]\n",
      " [0 0 0 0 0 0 0 0 0 0 0 0 0 0 0 0 0 0 1 0 0 0 0 0 0 0 0 0 0 0]\n",
      " [0 0 0 0 0 0 1 0 0 0 0 0 0 0 0 0 0 0 0 1 0 0 0 0 0 0 0 0 0 0]\n",
      " [0 0 0 0 0 0 0 0 0 0 0 0 0 0 0 0 0 0 0 0 1 0 0 0 0 0 0 0 0 0]\n",
      " [0 0 0 0 0 0 0 0 0 0 1 0 0 0 0 0 0 0 0 0 0 0 0 0 0 0 0 0 0 0]\n",
      " [0 0 0 0 0 0 0 0 0 0 0 0 0 0 0 0 0 0 0 0 0 0 0 0 0 0 0 0 0 0]\n",
      " [0 0 0 0 0 0 0 1 0 0 0 0 0 0 0 0 0 0 0 0 0 0 0 0 0 0 0 0 0 0]\n",
      " [0 0 0 0 0 0 0 0 0 0 0 0 0 0 0 0 0 0 0 0 0 0 0 0 0 0 0 0 0 0]\n",
      " [0 0 0 0 0 0 0 0 0 0 0 0 0 0 0 0 1 0 0 0 0 0 0 0 0 3 0 0 0 0]\n",
      " [0 0 0 0 0 0 0 0 0 0 0 0 0 0 0 0 0 0 0 0 0 0 0 0 0 0 1 0 0 0]\n",
      " [0 0 0 0 0 0 0 0 0 0 0 0 0 0 0 0 0 0 0 0 0 0 1 0 0 0 0 0 0 0]\n",
      " [1 0 0 0 0 0 0 0 0 0 0 0 0 0 0 0 0 0 0 0 0 0 0 0 0 0 0 0 0 0]\n",
      " [0 0 0 0 0 0 0 0 0 0 0 2 0 0 0 0 0 0 0 0 0 0 0 0 0 0 0 0 0 0]]\n",
      "\n",
      "=====================classification_report :======================\n",
      "                 precision    recall  f1-score   support\n",
      "\n",
      "AndroidDefender       0.00      0.00      0.00         0\n",
      "   AvForAndroid       0.00      0.00      0.00         1\n",
      "       RansomBO       1.00      1.00      1.00         1\n",
      "android.spy.277       0.00      0.00      0.00         0\n",
      "        beanbot       0.00      0.00      0.00         1\n",
      "          biige       0.00      0.00      0.00         2\n",
      "         dowgin       0.50      1.00      0.67         1\n",
      "          ewind       0.00      0.00      0.00         1\n",
      "         fakeav       0.00      0.00      0.00         0\n",
      "       fakeinst       0.00      0.00      0.00         1\n",
      "   fakejoboffer       0.00      0.00      0.00         0\n",
      "       fakemart       0.00      0.00      0.00         0\n",
      "          feiwo       0.00      0.00      0.00         2\n",
      "       gooligan       0.00      0.00      0.00         2\n",
      "         jifake       0.00      0.00      0.00         2\n",
      "          jisut       0.00      0.00      0.00         1\n",
      "          koler       0.00      0.00      0.00         0\n",
      "      lockerpin       0.00      0.00      0.00         1\n",
      "       mazarbot       0.50      1.00      0.67         1\n",
      "       mobidash       1.00      0.50      0.67         2\n",
      "      nandrobox       0.50      1.00      0.67         1\n",
      "        penetho       0.00      0.00      0.00         1\n",
      "      porndroid       0.00      0.00      0.00         0\n",
      "       selfmite       0.00      0.00      0.00         1\n",
      "        shuanet       0.00      0.00      0.00         0\n",
      "     smssniffer       1.00      0.75      0.86         4\n",
      "         svpeng       0.33      1.00      0.50         1\n",
      "    virusshield       0.00      0.00      0.00         1\n",
      "    wannalocker       0.00      0.00      0.00         1\n",
      "          zsone       0.00      0.00      0.00         2\n",
      "\n",
      "       accuracy                           0.29        31\n",
      "      macro avg       0.16      0.21      0.17        31\n",
      "   weighted avg       0.28      0.29      0.27        31\n",
      "\n",
      "========================Accuracy Score :==========================\n",
      "90:10\n",
      "0.2903225806451613\n",
      "============================ Timer :==============================\n",
      "Timer = 0.015962 seconds\n"
     ]
    },
    {
     "name": "stderr",
     "output_type": "stream",
     "text": [
      "C:\\Users\\RAMADAN PRATAMA\\anaconda3\\lib\\site-packages\\sklearn\\metrics\\_classification.py:1221: UndefinedMetricWarning: Precision and F-score are ill-defined and being set to 0.0 in labels with no predicted samples. Use `zero_division` parameter to control this behavior.\n",
      "  _warn_prf(average, modifier, msg_start, len(result))\n",
      "C:\\Users\\RAMADAN PRATAMA\\anaconda3\\lib\\site-packages\\sklearn\\metrics\\_classification.py:1221: UndefinedMetricWarning: Recall and F-score are ill-defined and being set to 0.0 in labels with no true samples. Use `zero_division` parameter to control this behavior.\n",
      "  _warn_prf(average, modifier, msg_start, len(result))\n"
     ]
    }
   ],
   "source": [
    "\n",
    "###klasifikasi Naive Bayes\n",
    "clf = GaussianNB()\n",
    "clf.fit(x_train, y_train)\n",
    "y_pred = clf.predict(x_test)\n",
    "\n",
    "##klasifikasi data test\n",
    "from time import time\n",
    "start = time()\n",
    "y_pred = clf.predict(x_test)\n",
    "end = time()\n",
    "result = end-start\n",
    "print(y_pred)\n",
    "print('Time = %f seconds' % result)\n",
    "\n",
    "from sklearn.metrics import classification_report, confusion_matrix, accuracy_score\n",
    "print('========================Confusion Metrix :========================')\n",
    "print(confusion_matrix(y_test, y_pred))\n",
    "print()\n",
    "print('=====================classification_report :======================')\n",
    "print(classification_report(y_test, y_pred))\n",
    "print('========================Accuracy Score :==========================')\n",
    "print('90:10')\n",
    "print(accuracy_score(y_test, y_pred))\n",
    "print('============================ Timer :==============================')\n",
    "print('Timer = %f seconds' % result)"
   ]
  }
 ],
 "metadata": {
  "kernelspec": {
   "display_name": "Python 3",
   "language": "python",
   "name": "python3"
  },
  "language_info": {
   "codemirror_mode": {
    "name": "ipython",
    "version": 3
   },
   "file_extension": ".py",
   "mimetype": "text/x-python",
   "name": "python",
   "nbconvert_exporter": "python",
   "pygments_lexer": "ipython3",
   "version": "3.8.5"
  }
 },
 "nbformat": 4,
 "nbformat_minor": 4
}
